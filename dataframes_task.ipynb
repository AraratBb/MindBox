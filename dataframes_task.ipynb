{
  "nbformat": 4,
  "nbformat_minor": 0,
  "metadata": {
    "colab": {
      "provenance": []
    },
    "kernelspec": {
      "name": "python3",
      "display_name": "Python 3"
    },
    "language_info": {
      "name": "python"
    }
  },
  "cells": [
    {
      "cell_type": "code",
      "execution_count": null,
      "metadata": {
        "colab": {
          "base_uri": "https://localhost:8080/"
        },
        "id": "_9SUptmPdzj3",
        "outputId": "53bee98c-8be3-4cd3-c889-67e438a6dced"
      },
      "outputs": [
        {
          "output_type": "stream",
          "name": "stdout",
          "text": [
            "Requirement already satisfied: pyspark in /usr/local/lib/python3.10/dist-packages (3.5.0)\n",
            "Requirement already satisfied: py4j==0.10.9.7 in /usr/local/lib/python3.10/dist-packages (from pyspark) (0.10.9.7)\n",
            "+------------+-------------+\n",
            "|Имя продукта|Имя категории|\n",
            "+------------+-------------+\n",
            "|    продукт1|   категория2|\n",
            "|    продукт2|   категория2|\n",
            "|    продукт3|   категория2|\n",
            "|    продукт4|         NULL|\n",
            "|    продукт2|   категория1|\n",
            "|    продукт1|   категория2|\n",
            "|    продукт2|   категория1|\n",
            "+------------+-------------+\n",
            "\n"
          ]
        }
      ],
      "source": [
        "!pip install pyspark\n",
        "from pyspark.sql import SparkSession\n",
        "\n",
        "spark = SparkSession.builder.getOrCreate()\n",
        "\n",
        "products = spark.createDataFrame([\n",
        "    ('1', 'продукт1'),\n",
        "    ('2', 'продукт2'),\n",
        "    ('3', 'продукт3'),\n",
        "    ('4', 'продукт4')\n",
        "], ['Id продукта', 'Имя продукта'])\n",
        "\n",
        "categories = spark.createDataFrame([\n",
        "    ('1', 'категория1'),\n",
        "    ('2', 'категория1'),\n",
        "    ('3', 'категория2'),\n",
        "    ('4', 'категория2')\n",
        "], ['Id категории', 'Имя категории'])\n",
        "\n",
        "connections = spark.createDataFrame([\n",
        "    ('1', '2'),\n",
        "    ('2', '2'),\n",
        "    ('3', '3'),\n",
        "    ('4', '1'),\n",
        "    ('3', '1'),\n",
        "    ('3', '2'),\n",
        "], ['Id категории', 'Id продукта'])\n",
        "\n",
        "ans = products.join(connections, products[\"Id продукта\"] == connections[\"Id продукта\"], \"left\") \\\n",
        "    .join(categories, categories[\"Id категории\"] == connections[\"Id категории\"], \"left\") \\\n",
        "    .select(['Имя продукта', 'Имя категории'])\n",
        "\n",
        "ans.show()"
      ]
    }
  ]
}